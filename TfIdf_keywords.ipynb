{
 "cells": [
  {
   "cell_type": "markdown",
   "metadata": {
    "deletable": true,
    "editable": true
   },
   "source": [
    "## TfIdf-关键词提取\n",
    "使用jieba分词的库"
   ]
  },
  {
   "cell_type": "code",
   "execution_count": 1,
   "metadata": {
    "collapsed": true,
    "deletable": true,
    "editable": true
   },
   "outputs": [],
   "source": [
    "import pandas as pd\n",
    "import numpy as np"
   ]
  },
  {
   "cell_type": "code",
   "execution_count": 2,
   "metadata": {
    "collapsed": true,
    "deletable": true,
    "editable": true
   },
   "outputs": [],
   "source": [
    "data = pd.read_csv('data/统计词频/鲽鱼-表格 1.csv')"
   ]
  },
  {
   "cell_type": "code",
   "execution_count": 3,
   "metadata": {
    "collapsed": false,
    "deletable": true,
    "editable": true
   },
   "outputs": [
    {
     "data": {
      "text/html": [
       "<div>\n",
       "<style>\n",
       "    .dataframe thead tr:only-child th {\n",
       "        text-align: right;\n",
       "    }\n",
       "\n",
       "    .dataframe thead th {\n",
       "        text-align: left;\n",
       "    }\n",
       "\n",
       "    .dataframe tbody tr th {\n",
       "        vertical-align: top;\n",
       "    }\n",
       "</style>\n",
       "<table border=\"1\" class=\"dataframe\">\n",
       "  <thead>\n",
       "    <tr style=\"text-align: right;\">\n",
       "      <th></th>\n",
       "      <th>content</th>\n",
       "      <th>Unnamed: 1</th>\n",
       "      <th>Unnamed: 2</th>\n",
       "      <th>Unnamed: 3</th>\n",
       "      <th>Unnamed: 4</th>\n",
       "    </tr>\n",
       "  </thead>\n",
       "  <tbody>\n",
       "    <tr>\n",
       "      <th>0</th>\n",
       "      <td>鲽鱼质量差，肉不新鲜，出乎意料，过去在京东买的海鲜一直都不错，这次运气差吧</td>\n",
       "      <td>NaN</td>\n",
       "      <td>NaN</td>\n",
       "      <td>NaN</td>\n",
       "      <td>NaN</td>\n",
       "    </tr>\n",
       "    <tr>\n",
       "      <th>1</th>\n",
       "      <td>这鲽鱼真是好吃，我做的是清蒸不仅营养还健康</td>\n",
       "      <td>NaN</td>\n",
       "      <td>NaN</td>\n",
       "      <td>NaN</td>\n",
       "      <td>NaN</td>\n",
       "    </tr>\n",
       "    <tr>\n",
       "      <th>2</th>\n",
       "      <td>阿***的黄金鲽鱼收到时，还冻的邦邦硬，京东送货一如既往的及时，深海鱼的营养价值会更高，肉质...</td>\n",
       "      <td>NaN</td>\n",
       "      <td>NaN</td>\n",
       "      <td>NaN</td>\n",
       "      <td>NaN</td>\n",
       "    </tr>\n",
       "    <tr>\n",
       "      <th>3</th>\n",
       "      <td>鲽鱼味道鲜美，来自深海的味道，京东经营很放心，物美价廉，送货快捷。</td>\n",
       "      <td>NaN</td>\n",
       "      <td>NaN</td>\n",
       "      <td>NaN</td>\n",
       "      <td>NaN</td>\n",
       "    </tr>\n",
       "    <tr>\n",
       "      <th>4</th>\n",
       "      <td>一包共三条鲽鱼，很不错，蛮新鲜的，鱼肉也嫩。</td>\n",
       "      <td>NaN</td>\n",
       "      <td>NaN</td>\n",
       "      <td>NaN</td>\n",
       "      <td>NaN</td>\n",
       "    </tr>\n",
       "  </tbody>\n",
       "</table>\n",
       "</div>"
      ],
      "text/plain": [
       "                                             content  Unnamed: 1  Unnamed: 2  \\\n",
       "0              鲽鱼质量差，肉不新鲜，出乎意料，过去在京东买的海鲜一直都不错，这次运气差吧         NaN         NaN   \n",
       "1                              这鲽鱼真是好吃，我做的是清蒸不仅营养还健康         NaN         NaN   \n",
       "2  阿***的黄金鲽鱼收到时，还冻的邦邦硬，京东送货一如既往的及时，深海鱼的营养价值会更高，肉质...         NaN         NaN   \n",
       "3                  鲽鱼味道鲜美，来自深海的味道，京东经营很放心，物美价廉，送货快捷。         NaN         NaN   \n",
       "4                             一包共三条鲽鱼，很不错，蛮新鲜的，鱼肉也嫩。         NaN         NaN   \n",
       "\n",
       "   Unnamed: 3  Unnamed: 4  \n",
       "0         NaN         NaN  \n",
       "1         NaN         NaN  \n",
       "2         NaN         NaN  \n",
       "3         NaN         NaN  \n",
       "4         NaN         NaN  "
      ]
     },
     "execution_count": 3,
     "metadata": {},
     "output_type": "execute_result"
    }
   ],
   "source": [
    "data.head()"
   ]
  },
  {
   "cell_type": "code",
   "execution_count": 2,
   "metadata": {
    "collapsed": true,
    "deletable": true,
    "editable": true
   },
   "outputs": [],
   "source": [
    "def merge_text(comment_series):\n",
    "    sentence = ''\n",
    "    for line in comment_series:\n",
    "        try:\n",
    "            sentence=sentence+line\n",
    "        except Exception:\n",
    "            pass\n",
    "    return sentence"
   ]
  },
  {
   "cell_type": "code",
   "execution_count": 3,
   "metadata": {
    "collapsed": true,
    "deletable": true,
    "editable": true
   },
   "outputs": [],
   "source": [
    "def get_key_words(comment_series,p_name,num_words=20):\n",
    "    import jieba.analyse\n",
    "    import jieba\n",
    "    jieba.add_word(p_name,freq=100,tag='n')\n",
    "    sentence = merge_text(comment_series)\n",
    "    return jieba.analyse.extract_tags(sentence, topK=num_words, withWeight=False, allowPOS=())"
   ]
  },
  {
   "cell_type": "code",
   "execution_count": 21,
   "metadata": {
    "collapsed": false,
    "deletable": true,
    "editable": true
   },
   "outputs": [
    {
     "data": {
      "text/plain": [
       "['鲽鱼', '不错', '新鲜', '天猫', '好吃', '鱼肉', '非常', '味道', '生鲜', '超市']"
      ]
     },
     "execution_count": 21,
     "metadata": {},
     "output_type": "execute_result"
    }
   ],
   "source": [
    "test_words = get_key_words(data['content'],'鲽鱼')\n",
    "test_words[:10]"
   ]
  },
  {
   "cell_type": "code",
   "execution_count": 23,
   "metadata": {
    "collapsed": true,
    "deletable": true,
    "editable": true
   },
   "outputs": [],
   "source": [
    "file_list = ['鲽鱼','红薯','牛排','三文鱼','山药','土豆','鳕鱼','柚','芋头','紫薯']\n",
    "key_word_dict = {}\n",
    "for file_name in file_list:\n",
    "    data = pd.read_csv('data/统计词频/{}-表格 1.csv'.format(file_name))\n",
    "    key_word_dict[file_name] = get_key_words(data['content'],file_name)\n",
    "key_word_df = pd.DataFrame(key_word_dict)"
   ]
  },
  {
   "cell_type": "code",
   "execution_count": 24,
   "metadata": {
    "collapsed": false,
    "deletable": true,
    "editable": true
   },
   "outputs": [
    {
     "data": {
      "text/html": [
       "<div>\n",
       "<style>\n",
       "    .dataframe thead tr:only-child th {\n",
       "        text-align: right;\n",
       "    }\n",
       "\n",
       "    .dataframe thead th {\n",
       "        text-align: left;\n",
       "    }\n",
       "\n",
       "    .dataframe tbody tr th {\n",
       "        vertical-align: top;\n",
       "    }\n",
       "</style>\n",
       "<table border=\"1\" class=\"dataframe\">\n",
       "  <thead>\n",
       "    <tr style=\"text-align: right;\">\n",
       "      <th></th>\n",
       "      <th>三文鱼</th>\n",
       "      <th>土豆</th>\n",
       "      <th>山药</th>\n",
       "      <th>柚</th>\n",
       "      <th>牛排</th>\n",
       "      <th>紫薯</th>\n",
       "      <th>红薯</th>\n",
       "      <th>芋头</th>\n",
       "      <th>鲽鱼</th>\n",
       "      <th>鳕鱼</th>\n",
       "    </tr>\n",
       "  </thead>\n",
       "  <tbody>\n",
       "    <tr>\n",
       "      <th>0</th>\n",
       "      <td>三文鱼</td>\n",
       "      <td>土豆</td>\n",
       "      <td>山药</td>\n",
       "      <td>柚子</td>\n",
       "      <td>牛排</td>\n",
       "      <td>紫薯</td>\n",
       "      <td>红薯</td>\n",
       "      <td>芋头</td>\n",
       "      <td>鲽鱼</td>\n",
       "      <td>鳕鱼</td>\n",
       "    </tr>\n",
       "    <tr>\n",
       "      <th>1</th>\n",
       "      <td>好吃</td>\n",
       "      <td>小土豆</td>\n",
       "      <td>不错</td>\n",
       "      <td>好吃</td>\n",
       "      <td>不错</td>\n",
       "      <td>布丁</td>\n",
       "      <td>好吃</td>\n",
       "      <td>好吃</td>\n",
       "      <td>不错</td>\n",
       "      <td>不错</td>\n",
       "    </tr>\n",
       "    <tr>\n",
       "      <th>2</th>\n",
       "      <td>新鲜</td>\n",
       "      <td>好吃</td>\n",
       "      <td>铁棍</td>\n",
       "      <td>京东</td>\n",
       "      <td>好吃</td>\n",
       "      <td>好吃</td>\n",
       "      <td>京东</td>\n",
       "      <td>新鲜</td>\n",
       "      <td>新鲜</td>\n",
       "      <td>京东</td>\n",
       "    </tr>\n",
       "    <tr>\n",
       "      <th>3</th>\n",
       "      <td>不错</td>\n",
       "      <td>不错</td>\n",
       "      <td>好吃</td>\n",
       "      <td>橙子</td>\n",
       "      <td>京东</td>\n",
       "      <td>不错</td>\n",
       "      <td>很甜</td>\n",
       "      <td>不错</td>\n",
       "      <td>天猫</td>\n",
       "      <td>好吃</td>\n",
       "    </tr>\n",
       "    <tr>\n",
       "      <th>4</th>\n",
       "      <td>京东</td>\n",
       "      <td>牛腩</td>\n",
       "      <td>京东</td>\n",
       "      <td>水果</td>\n",
       "      <td>味道</td>\n",
       "      <td>hellip</td>\n",
       "      <td>不错</td>\n",
       "      <td>味道</td>\n",
       "      <td>好吃</td>\n",
       "      <td>宝宝</td>\n",
       "    </tr>\n",
       "  </tbody>\n",
       "</table>\n",
       "</div>"
      ],
      "text/plain": [
       "   三文鱼   土豆  山药   柚  牛排      紫薯  红薯  芋头  鲽鱼  鳕鱼\n",
       "0  三文鱼   土豆  山药  柚子  牛排      紫薯  红薯  芋头  鲽鱼  鳕鱼\n",
       "1   好吃  小土豆  不错  好吃  不错      布丁  好吃  好吃  不错  不错\n",
       "2   新鲜   好吃  铁棍  京东  好吃      好吃  京东  新鲜  新鲜  京东\n",
       "3   不错   不错  好吃  橙子  京东      不错  很甜  不错  天猫  好吃\n",
       "4   京东   牛腩  京东  水果  味道  hellip  不错  味道  好吃  宝宝"
      ]
     },
     "execution_count": 24,
     "metadata": {},
     "output_type": "execute_result"
    }
   ],
   "source": [
    "key_word_df.head()"
   ]
  },
  {
   "cell_type": "code",
   "execution_count": 27,
   "metadata": {
    "collapsed": true,
    "deletable": true,
    "editable": true
   },
   "outputs": [],
   "source": [
    "with open('data/统计词频/all_freq.csv','w') as file:\n",
    "    key_word_df.to_csv(file)"
   ]
  },
  {
   "cell_type": "code",
   "execution_count": 11,
   "metadata": {
    "collapsed": false,
    "deletable": true,
    "editable": true
   },
   "outputs": [],
   "source": [
    "data_comment = pd.read_csv('data/外卖/点评-德克士.csv')"
   ]
  },
  {
   "cell_type": "code",
   "execution_count": 12,
   "metadata": {
    "collapsed": false,
    "deletable": true,
    "editable": true
   },
   "outputs": [
    {
     "name": "stdout",
     "output_type": "stream",
     "text": [
      "<class 'pandas.core.frame.DataFrame'>\n",
      "RangeIndex: 6046 entries, 0 to 6045\n",
      "Data columns (total 25 columns):\n",
      "_id                         6046 non-null object\n",
      "commentCount                2642 non-null float64\n",
      "commentEnvironmentRating    6046 non-null float64\n",
      "commentId                   6046 non-null int64\n",
      "commentProductRating        6046 non-null float64\n",
      "commentServiceRating        6046 non-null float64\n",
      "commentStars                6046 non-null float64\n",
      "content                     6046 non-null object\n",
      "createTime                  6046 non-null object\n",
      "imageUrls.0                 752 non-null object\n",
      "imageUrls.1                 538 non-null object\n",
      "imageUrls.2                 451 non-null object\n",
      "likeCount                   2642 non-null float64\n",
      "location                    6046 non-null object\n",
      "publishDate                 6046 non-null object\n",
      "publisher                   6046 non-null object\n",
      "publisherId                 3404 non-null float64\n",
      "publisherRank               6043 non-null float64\n",
      "publisherUrl                6046 non-null object\n",
      "shaneTag                    1671 non-null object\n",
      "shopId                      6046 non-null object\n",
      "source                      0 non-null float64\n",
      "tags                        0 non-null float64\n",
      "updateTime                  6046 non-null object\n",
      "viewCount                   2642 non-null float64\n",
      "dtypes: float64(11), int64(1), object(13)\n",
      "memory usage: 1.2+ MB\n"
     ]
    }
   ],
   "source": [
    "data_comment.info()"
   ]
  },
  {
   "cell_type": "code",
   "execution_count": 17,
   "metadata": {
    "collapsed": false,
    "deletable": true,
    "editable": true
   },
   "outputs": [],
   "source": [
    "file_list = ['德克士','汉堡王','华莱士','麦当劳','肯德基']\n",
    "key_word_dict = {}\n",
    "for file_name in file_list:\n",
    "    data = pd.read_csv('data/外卖/点评-{}.csv'.format(file_name))\n",
    "    try:\n",
    "        key_word_dict[file_name] = get_key_words(data['content'],file_name)\n",
    "    except Exception:\n",
    "        pass\n",
    "key_word_df = pd.DataFrame(key_word_dict)"
   ]
  },
  {
   "cell_type": "code",
   "execution_count": 18,
   "metadata": {
    "collapsed": false,
    "deletable": true,
    "editable": true
   },
   "outputs": [
    {
     "data": {
      "text/html": [
       "<div>\n",
       "<table border=\"1\" class=\"dataframe\">\n",
       "  <thead>\n",
       "    <tr style=\"text-align: right;\">\n",
       "      <th></th>\n",
       "      <th>华莱士</th>\n",
       "      <th>德克士</th>\n",
       "    </tr>\n",
       "  </thead>\n",
       "  <tbody>\n",
       "    <tr>\n",
       "      <th>0</th>\n",
       "      <td>团购</td>\n",
       "      <td>团购</td>\n",
       "    </tr>\n",
       "    <tr>\n",
       "      <th>1</th>\n",
       "      <td>不错</td>\n",
       "      <td>德克士</td>\n",
       "    </tr>\n",
       "    <tr>\n",
       "      <th>2</th>\n",
       "      <td>味道</td>\n",
       "      <td>点评</td>\n",
       "    </tr>\n",
       "    <tr>\n",
       "      <th>3</th>\n",
       "      <td>点评</td>\n",
       "      <td>好吃</td>\n",
       "    </tr>\n",
       "    <tr>\n",
       "      <th>4</th>\n",
       "      <td>实惠</td>\n",
       "      <td>不错</td>\n",
       "    </tr>\n",
       "    <tr>\n",
       "      <th>5</th>\n",
       "      <td>汉堡</td>\n",
       "      <td>味道</td>\n",
       "    </tr>\n",
       "    <tr>\n",
       "      <th>6</th>\n",
       "      <td>好吃</td>\n",
       "      <td>手枪</td>\n",
       "    </tr>\n",
       "    <tr>\n",
       "      <th>7</th>\n",
       "      <td>便宜</td>\n",
       "      <td>鸡腿</td>\n",
       "    </tr>\n",
       "    <tr>\n",
       "      <th>8</th>\n",
       "      <td>套餐</td>\n",
       "      <td>汉堡</td>\n",
       "    </tr>\n",
       "    <tr>\n",
       "      <th>9</th>\n",
       "      <td>外卖</td>\n",
       "      <td>炸鸡</td>\n",
       "    </tr>\n",
       "    <tr>\n",
       "      <th>10</th>\n",
       "      <td>肯德基</td>\n",
       "      <td>套餐</td>\n",
       "    </tr>\n",
       "    <tr>\n",
       "      <th>11</th>\n",
       "      <td>划算</td>\n",
       "      <td>薯条</td>\n",
       "    </tr>\n",
       "    <tr>\n",
       "      <th>12</th>\n",
       "      <td>华莱士</td>\n",
       "      <td>肯德基</td>\n",
       "    </tr>\n",
       "    <tr>\n",
       "      <th>13</th>\n",
       "      <td>可乐</td>\n",
       "      <td>划算</td>\n",
       "    </tr>\n",
       "    <tr>\n",
       "      <th>14</th>\n",
       "      <td>口味</td>\n",
       "      <td>鸡翅</td>\n",
       "    </tr>\n",
       "    <tr>\n",
       "      <th>15</th>\n",
       "      <td>可以</td>\n",
       "      <td>服务员</td>\n",
       "    </tr>\n",
       "    <tr>\n",
       "      <th>16</th>\n",
       "      <td>下次</td>\n",
       "      <td>还是</td>\n",
       "    </tr>\n",
       "    <tr>\n",
       "      <th>17</th>\n",
       "      <td>服务态度</td>\n",
       "      <td>外卖</td>\n",
       "    </tr>\n",
       "    <tr>\n",
       "      <th>18</th>\n",
       "      <td>鸡块</td>\n",
       "      <td>喜欢</td>\n",
       "    </tr>\n",
       "    <tr>\n",
       "      <th>19</th>\n",
       "      <td>性价比</td>\n",
       "      <td>鸡块</td>\n",
       "    </tr>\n",
       "  </tbody>\n",
       "</table>\n",
       "</div>"
      ],
      "text/plain": [
       "     华莱士  德克士\n",
       "0     团购   团购\n",
       "1     不错  德克士\n",
       "2     味道   点评\n",
       "3     点评   好吃\n",
       "4     实惠   不错\n",
       "5     汉堡   味道\n",
       "6     好吃   手枪\n",
       "7     便宜   鸡腿\n",
       "8     套餐   汉堡\n",
       "9     外卖   炸鸡\n",
       "10   肯德基   套餐\n",
       "11    划算   薯条\n",
       "12   华莱士  肯德基\n",
       "13    可乐   划算\n",
       "14    口味   鸡翅\n",
       "15    可以  服务员\n",
       "16    下次   还是\n",
       "17  服务态度   外卖\n",
       "18    鸡块   喜欢\n",
       "19   性价比   鸡块"
      ]
     },
     "execution_count": 18,
     "metadata": {},
     "output_type": "execute_result"
    }
   ],
   "source": [
    "key_word_df"
   ]
  },
  {
   "cell_type": "code",
   "execution_count": 32,
   "metadata": {
    "collapsed": false,
    "deletable": true,
    "editable": true
   },
   "outputs": [],
   "source": [
    "import jieba\n",
    "dekeshi = pd.read_csv('data/外卖/点评-德克士.csv')\n",
    "dekeshi_comment = dekeshi['content']\n",
    "from collections import Counter\n",
    "count = Counter()\n",
    "for line in dekeshi_comment:\n",
    "    key_words = jieba.analyse.extract_tags(line, topK=3, withWeight=False, allowPOS=())\n",
    "    count.update(key_words)"
   ]
  },
  {
   "cell_type": "code",
   "execution_count": 33,
   "metadata": {
    "collapsed": false,
    "deletable": true,
    "editable": true
   },
   "outputs": [
    {
     "data": {
      "text/plain": [
       "[('团购', 1726),\n",
       " ('德克士', 830),\n",
       " ('好吃', 408),\n",
       " ('点评', 397),\n",
       " ('鸡腿', 375),\n",
       " ('炸鸡', 362),\n",
       " ('薯条', 340),\n",
       " ('味道', 335),\n",
       " ('不错', 325),\n",
       " ('手枪', 280),\n",
       " ('汉堡', 241),\n",
       " ('划算', 230),\n",
       " ('套餐', 227),\n",
       " ('实惠', 224),\n",
       " ('肯德基', 222),\n",
       " ('外卖', 191),\n",
       " ('脆皮', 159),\n",
       " ('买一送一', 159),\n",
       " ('下次', 136),\n",
       " ('鸡翅', 126)]"
      ]
     },
     "execution_count": 33,
     "metadata": {},
     "output_type": "execute_result"
    }
   ],
   "source": [
    "count.most_common(20)"
   ]
  },
  {
   "cell_type": "markdown",
   "metadata": {
    "deletable": true,
    "editable": true
   },
   "source": [
    "统计每条评论中的关键词的词频和直接出所有评论中的关键词会有一定的区别，尤其是在topK比较小的情况下，注意这里的**‘还是‘**和**’买一送一’**，感觉上应该是第一种方法比较准"
   ]
  }
 ],
 "metadata": {
  "kernelspec": {
   "display_name": "Python [conda env:aind]",
   "language": "python",
   "name": "conda-env-aind-py"
  },
  "language_info": {
   "codemirror_mode": {
    "name": "ipython",
    "version": 3
   },
   "file_extension": ".py",
   "mimetype": "text/x-python",
   "name": "python",
   "nbconvert_exporter": "python",
   "pygments_lexer": "ipython3",
   "version": "3.6.0"
  }
 },
 "nbformat": 4,
 "nbformat_minor": 2
}
